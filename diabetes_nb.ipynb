{
  "cells": [
    {
      "cell_type": "code",
      "execution_count": 1,
      "metadata": {
        "id": "mjizmaRoEfzu"
      },
      "outputs": [],
      "source": [
        "import numpy as np\n",
        "import matplotlib.pyplot as plt\n",
        "import pandas as pd\n",
        "from sklearn.model_selection import train_test_split"
      ]
    },
    {
      "attachments": {},
      "cell_type": "markdown",
      "metadata": {
        "id": "QBjUc5AsaBWy"
      },
      "source": [
        "**Import Library Python **\n",
        "- numpy adalah library python yang digunakan untuk komputasi numerik dan manipulasi array\n",
        "- matplotlib adalah library python yang digunakan untuk memvisualisasikan data\n",
        "- pandas adalah library yang digunakan untuk pengolahan data, pandas bisa mengimpor mengolah dan menganalisis data."
      ]
    },
    {
      "cell_type": "code",
      "execution_count": 2,
      "metadata": {
        "colab": {
          "base_uri": "https://localhost:8080/"
        },
        "id": "pednY-olFYgv",
        "outputId": "434debba-6360-42fb-dc39-968065c2bec2"
      },
      "outputs": [
        {
          "name": "stdout",
          "output_type": "stream",
          "text": [
            "Jumlah Dataset : 768\n"
          ]
        }
      ],
      "source": [
        "dataset = pd.read_csv(\"diabetes.csv\")\n",
        "x = dataset.iloc[:, :-1].values\n",
        "y = dataset.iloc[:, -1].values\n",
        "\n",
        "print(\"Jumlah Dataset :\",len(dataset))"
      ]
    },
    {
      "attachments": {},
      "cell_type": "markdown",
      "metadata": {
        "id": "CdC3w5cmaui2"
      },
      "source": [
        "Penjelasan line code\n",
        "\n",
        "Dataset diambil dari google drive dengan fungsi drive.mount\n",
        "\n",
        "1. pd.read_csv -> library pandas dan functionnya, digunakan untuk mengimport data dari file\n",
        "2. dataset.iloc[:, :-1].values ->\n",
        "  - iloc digunakan untuk mengakses dataframe dalam posisi indeks, berdasarkan baris dan kolom.\n",
        "      + code diatas menunjukan dia akan mengambil semua baris dan kolom kecuali indeks yang terakhir\n",
        "      + [:, -1] -> artinya dia mengambil semua baris dan kolom terakhir saja"
      ]
    },
    {
      "cell_type": "code",
      "execution_count": 3,
      "metadata": {
        "colab": {
          "base_uri": "https://localhost:8080/"
        },
        "id": "tu8OBRHVFybu",
        "outputId": "6eccbf87-a323-44ce-df89-66fcf2739703"
      },
      "outputs": [
        {
          "name": "stdout",
          "output_type": "stream",
          "text": [
            "Dataset Training = 576\n",
            "Dataset Testing = 192\n"
          ]
        }
      ],
      "source": [
        "\n",
        "x_train, x_test, y_train, y_test = train_test_split( x, y , test_size = 0.25, random_state =0)\n",
        "\n",
        "print(\"Dataset Training =\",len(x_train))\n",
        "print(\"Dataset Testing =\",len(x_test))"
      ]
    },
    {
      "attachments": {},
      "cell_type": "markdown",
      "metadata": {
        "id": "u9W3mq-wdhdd"
      },
      "source": [
        "Penjelasan Line Code\n",
        "1. from sklearn.model_selection import train_test_split\n",
        "    + sklearn sendiri scikit-learn, library untuk data mining/ machine learning\n",
        "  - Code diatas digunakan untuk membagi dataset menjadi data training dan data testing\n",
        "2. ( x, y , test_size = 0.25, random_state =0)\n",
        "  - x dan y adalah data yang ingin dibagi\n",
        "  - test_size adalah ukuran data testing dalam persen\n",
        "  - random_state digunakan untuk memastikan pembagian dataset training dan dataset testing konsisten"
      ]
    },
    {
      "cell_type": "code",
      "execution_count": 4,
      "metadata": {
        "colab": {
          "base_uri": "https://localhost:8080/"
        },
        "id": "owxHifVUHcaC",
        "outputId": "c1049329-4d2d-4112-bfbf-379560dec813"
      },
      "outputs": [
        {
          "name": "stdout",
          "output_type": "stream",
          "text": [
            "[[ 1.50755225 -1.01521454 -0.40451932 ... -1.22070104 -0.98325882\n",
            "  -0.04863985]\n",
            " [-0.82986389 -0.09964691 -0.61509602 ...  0.13719053 -0.62493647\n",
            "  -0.88246592]\n",
            " [-1.12204091 -0.95207195  0.54307587 ...  0.0240329   0.39884168\n",
            "  -0.5489355 ]\n",
            " ...\n",
            " [ 0.04666716 -0.85735805 -0.24658679 ... -0.9440935  -0.96519215\n",
            "  -1.04923114]\n",
            " [ 2.09190629 -1.14149973  0.2272108  ... -0.26514771 -0.5075031\n",
            "   0.11812536]\n",
            " [ 0.33884418  0.46863645  0.64836422 ... -4.04964181  0.51627505\n",
            "   2.953134  ]]\n"
          ]
        }
      ],
      "source": [
        "from sklearn.preprocessing import StandardScaler\n",
        "sc = StandardScaler()\n",
        "x_train = sc.fit_transform(x_train)\n",
        "x_test = sc.transform(x_test)\n",
        "print(x_train)"
      ]
    },
    {
      "attachments": {},
      "cell_type": "markdown",
      "metadata": {
        "id": "zy3Ivq8Igbyu"
      },
      "source": [
        "Penjelasan Line Code\n",
        "1. from sklearn.preprocessing import StandardScaler\n",
        "  Standard scaler digunakan untuk normalisasi data agar data tidak memiliki penyimpangan/rentang nilai yang besar\n",
        "2. fit_transform digunakan untuk menghitung mean dan standard deviasi dan mentransformasikan nilai nilainya\n",
        "3. transform digunakan untuk mengubah nilai nilai berdasarkan mean dan standard deviasi"
      ]
    },
    {
      "cell_type": "code",
      "execution_count": 5,
      "metadata": {
        "colab": {
          "base_uri": "https://localhost:8080/",
          "height": 74
        },
        "id": "hgW4KBSaHydu",
        "outputId": "48c4c812-7586-4226-c08c-f4f0b96be727"
      },
      "outputs": [
        {
          "data": {
            "text/html": [
              "<style>#sk-container-id-1 {color: black;}#sk-container-id-1 pre{padding: 0;}#sk-container-id-1 div.sk-toggleable {background-color: white;}#sk-container-id-1 label.sk-toggleable__label {cursor: pointer;display: block;width: 100%;margin-bottom: 0;padding: 0.3em;box-sizing: border-box;text-align: center;}#sk-container-id-1 label.sk-toggleable__label-arrow:before {content: \"▸\";float: left;margin-right: 0.25em;color: #696969;}#sk-container-id-1 label.sk-toggleable__label-arrow:hover:before {color: black;}#sk-container-id-1 div.sk-estimator:hover label.sk-toggleable__label-arrow:before {color: black;}#sk-container-id-1 div.sk-toggleable__content {max-height: 0;max-width: 0;overflow: hidden;text-align: left;background-color: #f0f8ff;}#sk-container-id-1 div.sk-toggleable__content pre {margin: 0.2em;color: black;border-radius: 0.25em;background-color: #f0f8ff;}#sk-container-id-1 input.sk-toggleable__control:checked~div.sk-toggleable__content {max-height: 200px;max-width: 100%;overflow: auto;}#sk-container-id-1 input.sk-toggleable__control:checked~label.sk-toggleable__label-arrow:before {content: \"▾\";}#sk-container-id-1 div.sk-estimator input.sk-toggleable__control:checked~label.sk-toggleable__label {background-color: #d4ebff;}#sk-container-id-1 div.sk-label input.sk-toggleable__control:checked~label.sk-toggleable__label {background-color: #d4ebff;}#sk-container-id-1 input.sk-hidden--visually {border: 0;clip: rect(1px 1px 1px 1px);clip: rect(1px, 1px, 1px, 1px);height: 1px;margin: -1px;overflow: hidden;padding: 0;position: absolute;width: 1px;}#sk-container-id-1 div.sk-estimator {font-family: monospace;background-color: #f0f8ff;border: 1px dotted black;border-radius: 0.25em;box-sizing: border-box;margin-bottom: 0.5em;}#sk-container-id-1 div.sk-estimator:hover {background-color: #d4ebff;}#sk-container-id-1 div.sk-parallel-item::after {content: \"\";width: 100%;border-bottom: 1px solid gray;flex-grow: 1;}#sk-container-id-1 div.sk-label:hover label.sk-toggleable__label {background-color: #d4ebff;}#sk-container-id-1 div.sk-serial::before {content: \"\";position: absolute;border-left: 1px solid gray;box-sizing: border-box;top: 0;bottom: 0;left: 50%;z-index: 0;}#sk-container-id-1 div.sk-serial {display: flex;flex-direction: column;align-items: center;background-color: white;padding-right: 0.2em;padding-left: 0.2em;position: relative;}#sk-container-id-1 div.sk-item {position: relative;z-index: 1;}#sk-container-id-1 div.sk-parallel {display: flex;align-items: stretch;justify-content: center;background-color: white;position: relative;}#sk-container-id-1 div.sk-item::before, #sk-container-id-1 div.sk-parallel-item::before {content: \"\";position: absolute;border-left: 1px solid gray;box-sizing: border-box;top: 0;bottom: 0;left: 50%;z-index: -1;}#sk-container-id-1 div.sk-parallel-item {display: flex;flex-direction: column;z-index: 1;position: relative;background-color: white;}#sk-container-id-1 div.sk-parallel-item:first-child::after {align-self: flex-end;width: 50%;}#sk-container-id-1 div.sk-parallel-item:last-child::after {align-self: flex-start;width: 50%;}#sk-container-id-1 div.sk-parallel-item:only-child::after {width: 0;}#sk-container-id-1 div.sk-dashed-wrapped {border: 1px dashed gray;margin: 0 0.4em 0.5em 0.4em;box-sizing: border-box;padding-bottom: 0.4em;background-color: white;}#sk-container-id-1 div.sk-label label {font-family: monospace;font-weight: bold;display: inline-block;line-height: 1.2em;}#sk-container-id-1 div.sk-label-container {text-align: center;}#sk-container-id-1 div.sk-container {/* jupyter's `normalize.less` sets `[hidden] { display: none; }` but bootstrap.min.css set `[hidden] { display: none !important; }` so we also need the `!important` here to be able to override the default hidden behavior on the sphinx rendered scikit-learn.org. See: https://github.com/scikit-learn/scikit-learn/issues/21755 */display: inline-block !important;position: relative;}#sk-container-id-1 div.sk-text-repr-fallback {display: none;}</style><div id=\"sk-container-id-1\" class=\"sk-top-container\"><div class=\"sk-text-repr-fallback\"><pre>GaussianNB()</pre><b>In a Jupyter environment, please rerun this cell to show the HTML representation or trust the notebook. <br />On GitHub, the HTML representation is unable to render, please try loading this page with nbviewer.org.</b></div><div class=\"sk-container\" hidden><div class=\"sk-item\"><div class=\"sk-estimator sk-toggleable\"><input class=\"sk-toggleable__control sk-hidden--visually\" id=\"sk-estimator-id-1\" type=\"checkbox\" checked><label for=\"sk-estimator-id-1\" class=\"sk-toggleable__label sk-toggleable__label-arrow\">GaussianNB</label><div class=\"sk-toggleable__content\"><pre>GaussianNB()</pre></div></div></div></div></div>"
            ],
            "text/plain": [
              "GaussianNB()"
            ]
          },
          "execution_count": 5,
          "metadata": {},
          "output_type": "execute_result"
        }
      ],
      "source": [
        "from sklearn.naive_bayes import GaussianNB # gaussian karena datanya numerik\n",
        "classifier = GaussianNB()\n",
        "classifier.fit(x_train, y_train)"
      ]
    },
    {
      "attachments": {},
      "cell_type": "markdown",
      "metadata": {
        "id": "nSMmtzw3hRjB"
      },
      "source": [
        "Penjelasan Line Code\n",
        "1. GaussianNB adalah salah satu fungsi dalam modul naive bayes yang digunakan untuk data numerik\n",
        "2. fit digunakan untuk melatih X dengan target Y"
      ]
    },
    {
      "cell_type": "code",
      "execution_count": 6,
      "metadata": {
        "id": "UlNctzisIGu2"
      },
      "outputs": [],
      "source": [
        "y_pred = classifier.predict(x_test)"
      ]
    },
    {
      "attachments": {},
      "cell_type": "markdown",
      "metadata": {
        "id": "E21iOeXzis6a"
      },
      "source": [
        "Penjelasan line code\n",
        "1. predict digunaakn untuk memprediksi dataset berdasarkan model yang telah dilatih"
      ]
    },
    {
      "cell_type": "code",
      "execution_count": 7,
      "metadata": {
        "colab": {
          "base_uri": "https://localhost:8080/",
          "height": 449
        },
        "id": "Pq39Wiu2IQT9",
        "outputId": "f7aa1ca3-b450-4564-8672-f07a9df36c09"
      },
      "outputs": [
        {
          "data": {
            "image/png": "[encoded data removed]",
            "text/plain": [
              "<Figure size 640x480 with 2 Axes>"
            ]
          },
          "metadata": {},
          "output_type": "display_data"
        }
      ],
      "source": [
        "from sklearn.metrics import confusion_matrix\n",
        "from sklearn.metrics import ConfusionMatrixDisplay\n",
        "\n",
        "confusion_matrix = confusion_matrix(y_test,y_pred)\n",
        "\n",
        "cm_display = ConfusionMatrixDisplay(confusion_matrix = confusion_matrix, display_labels = [0,1])\n",
        "\n",
        "cm_display.plot()\n",
        "plt.show()"
      ]
    },
    {
      "attachments": {},
      "cell_type": "markdown",
      "metadata": {
        "id": "faYZbRrjjSB4"
      },
      "source": [
        "Penjelasan line code\n",
        "1. Confusion Matrix digunakan untuk menggambarkan performa model klasifikasi pada suatu dataset\n",
        "  - [ [TP, FN]\n",
        "      {FP, TN] ]\n",
        "      + TP, (TRUE POSITIVE) Maksudnya model secara benar memprediksi sampel yang labelnya positif\n",
        "      + TN, (TRUE NEGATIVE) Maksudnya model secara benar memprediksi sampel yang labelnya negatif\n",
        "      + FP, (FALSE POSITIVE) Maksudnya model secara salah mempredisksi sampel yang labelnya positif Seharusnya Negatif\n",
        "      + FN, (FALSE NEGATIVE) Maksudnya model secara salah memprediksi sampel yang labelnya negatif seharusnya Positif\n",
        "\n",
        "      + Tujuan yang seharusnya dicapai adalah mencapai TP dan TN sebanyak mungkin dan meminimalkan FP dan FN\n",
        "\n",
        "      + Jika seluruh nilai pada matriks ditambahkan akan menghasilkan total data uji\n"
      ]
    },
    {
      "cell_type": "code",
      "execution_count": 8,
      "metadata": {
        "colab": {
          "base_uri": "https://localhost:8080/"
        },
        "id": "NJPK75ZZIv4P",
        "outputId": "58b05d70-ae28-4fba-faab-40ee8b528c96"
      },
      "outputs": [
        {
          "name": "stdout",
          "output_type": "stream",
          "text": [
            "              precision    recall  f1-score   support\n",
            "\n",
            "           0       0.80      0.88      0.84       130\n",
            "           1       0.67      0.53      0.59        62\n",
            "\n",
            "    accuracy                           0.77       192\n",
            "   macro avg       0.74      0.70      0.71       192\n",
            "weighted avg       0.76      0.77      0.76       192\n",
            "\n"
          ]
        }
      ],
      "source": [
        "from sklearn.metrics import classification_report\n",
        "print(classification_report(y_test, y_pred))"
      ]
    },
    {
      "attachments": {},
      "cell_type": "markdown",
      "metadata": {
        "id": "F0zJmXEClrPd"
      },
      "source": [
        "Penjelasan Line code\n",
        "1. accuracy score digunakan untuk menghitung akurasi dari model klasifikasi\n",
        "2. Precision digunakan untuk Merupakan rasio prediksi benar positif dibandingkan dengan keseluruhan hasil yang diprediksi positf\n",
        "3. Recall Merupakan rasio prediksi benar positif dibandingkan dengan keseluruhan data yang benar positif\n",
        "4. f1 score perbandingan rata-rata presisi dan recall yang dibobotkan\n",
        "5. Support adalah jumlah data"
      ]
    },
    {
      "cell_type": "code",
      "execution_count": 9,
      "metadata": {
        "id": "ZTn6oEFJkV9p"
      },
      "outputs": [],
      "source": [
        "Pregnancies = 5\n",
        "Glucose = 116\n",
        "BloodPressure = 74\n",
        "Skin_Thickness = 0\n",
        "Insulin = 0\n",
        "BMI = 25.6\n",
        "DiabetesPredigreeFunction = 0.201\n",
        "Age = 30\n",
        "\n",
        "input_sample = [[Pregnancies, Glucose, BloodPressure, Skin_Thickness, Insulin, BMI, DiabetesPredigreeFunction, Age]]\n",
        "input_np_array = np.asarray(input_sample)\n",
        "input_np_array_reshaped = input_np_array.reshape(1,-1)"
      ]
    },
    {
      "cell_type": "code",
      "execution_count": 10,
      "metadata": {
        "colab": {
          "base_uri": "https://localhost:8080/"
        },
        "id": "bPrOKo_Rk44Q",
        "outputId": "970824dc-cea4-4218-f3b6-cede7443c983"
      },
      "outputs": [
        {
          "name": "stdout",
          "output_type": "stream",
          "text": [
            "[[ 0.33884418 -0.1627895   0.2272108  -1.31921491 -0.71823753 -0.83093587\n",
            "  -0.8056032  -0.29878768]]\n"
          ]
        }
      ],
      "source": [
        "std_data = sc.transform(input_np_array_reshaped)\n",
        "print(std_data)"
      ]
    },
    {
      "attachments": {},
      "cell_type": "markdown",
      "metadata": {
        "id": "xf9LyxRCsI6D"
      },
      "source": [
        "Standard scaler digunakan untuk normalisasi data agar data tidak memiliki penyimpangan/rentang nilai yang besar"
      ]
    },
    {
      "cell_type": "code",
      "execution_count": 11,
      "metadata": {
        "id": "v6Pviga9lq_c"
      },
      "outputs": [],
      "source": [
        "prediction = classifier.predict(std_data)"
      ]
    },
    {
      "cell_type": "code",
      "execution_count": 12,
      "metadata": {
        "colab": {
          "base_uri": "https://localhost:8080/"
        },
        "id": "vY7wY9tglsII",
        "outputId": "eeb5caac-d7fe-423b-b0d5-8d03b88c49ed"
      },
      "outputs": [
        {
          "name": "stdout",
          "output_type": "stream",
          "text": [
            "Dia Tidak Terkena Diabetes\n"
          ]
        }
      ],
      "source": [
        "if (prediction[0]==0):\n",
        "  print(\"Dia Tidak Terkena Diabetes\")\n",
        "elif (prediction[1]==1):\n",
        "  print(\"Dia Terkena Diabetes\")\n",
        "else:\n",
        "  print(\"Eror\")"
      ]
    },
    {
      "cell_type": "code",
      "execution_count": 13,
      "metadata": {},
      "outputs": [],
      "source": [
        "import pickle\n",
        "filename = \"diabetes_model.pkl\"\n",
        "pickle.dump(classifier,open(filename,'wb'))"
      ]
    }
  ],
  "metadata": {
    "colab": {
      "provenance": []
    },
    "kernelspec": {
      "display_name": "Python 3",
      "name": "python3"
    },
    "language_info": {
      "codemirror_mode": {
        "name": "ipython",
        "version": 3
      },
      "file_extension": ".py",
      "mimetype": "text/x-python",
      "name": "python",
      "nbconvert_exporter": "python",
      "pygments_lexer": "ipython3",
      "version": "3.11.4"
    }
  },
  "nbformat": 4,
  "nbformat_minor": 0
}
